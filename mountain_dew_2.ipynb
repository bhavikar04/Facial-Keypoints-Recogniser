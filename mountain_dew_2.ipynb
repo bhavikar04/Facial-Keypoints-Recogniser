{
  "metadata": {
    "kernelspec": {
      "language": "python",
      "display_name": "Python 3",
      "name": "python3"
    },
    "language_info": {
      "name": "python",
      "version": "3.10.12",
      "mimetype": "text/x-python",
      "codemirror_mode": {
        "name": "ipython",
        "version": 3
      },
      "pygments_lexer": "ipython3",
      "nbconvert_exporter": "python",
      "file_extension": ".py"
    },
    "kaggle": {
      "accelerator": "gpu",
      "dataSources": [
        {
          "sourceId": 62891,
          "databundleVersionId": 6855609,
          "sourceType": "competition"
        }
      ],
      "dockerImageVersionId": 30558,
      "isInternetEnabled": true,
      "language": "python",
      "sourceType": "notebook",
      "isGpuEnabled": true
    },
    "colab": {
      "name": "mountain dew 2",
      "provenance": [],
      "include_colab_link": true
    }
  },
  "nbformat_minor": 0,
  "nbformat": 4,
  "cells": [
    {
      "cell_type": "markdown",
      "metadata": {
        "id": "view-in-github",
        "colab_type": "text"
      },
      "source": [
        "<a href=\"https://colab.research.google.com/github/bhavikar04/Facial-Keypoints-Recogniser/blob/main/mountain_dew_2.ipynb\" target=\"_parent\"><img src=\"https://colab.research.google.com/assets/colab-badge.svg\" alt=\"Open In Colab\"/></a>"
      ]
    },
    {
      "source": [
        "\n",
        "# IMPORTANT: RUN THIS CELL IN ORDER TO IMPORT YOUR KAGGLE DATA SOURCES\n",
        "# TO THE CORRECT LOCATION (/kaggle/input) IN YOUR NOTEBOOK,\n",
        "# THEN FEEL FREE TO DELETE THIS CELL.\n",
        "# NOTE: THIS NOTEBOOK ENVIRONMENT DIFFERS FROM KAGGLE'S PYTHON\n",
        "# ENVIRONMENT SO THERE MAY BE MISSING LIBRARIES USED BY YOUR\n",
        "# NOTEBOOK.\n",
        "\n",
        "import os\n",
        "import sys\n",
        "from tempfile import NamedTemporaryFile\n",
        "from urllib.request import urlopen\n",
        "from urllib.parse import unquote, urlparse\n",
        "from urllib.error import HTTPError\n",
        "from zipfile import ZipFile\n",
        "import tarfile\n",
        "import shutil\n",
        "\n",
        "CHUNK_SIZE = 40960\n",
        "DATA_SOURCE_MAPPING = 'keypoint-identification-cv-contingent-selections:https%3A%2F%2Fstorage.googleapis.com%2Fkaggle-competitions-data%2Fkaggle-v2%2F62891%2F6855609%2Fbundle%2Farchive.zip%3FX-Goog-Algorithm%3DGOOG4-RSA-SHA256%26X-Goog-Credential%3Dgcp-kaggle-com%2540kaggle-161607.iam.gserviceaccount.com%252F20240622%252Fauto%252Fstorage%252Fgoog4_request%26X-Goog-Date%3D20240622T045752Z%26X-Goog-Expires%3D259200%26X-Goog-SignedHeaders%3Dhost%26X-Goog-Signature%3D4e1a752d11a7d6905fbc4de9ea98e78dd583604ee7b9040e3c862e636df105944c9df3a38cdc363fbfe27278a0be47f992586fe89dab7d2365a0a737f7482dd42a43c4a88566bd6f9aabf49447afbaf94ed2a015a9f749bfc4aa57764d09a5c79004b8770998ef429641ae5e3e490ac9828ee1bdd5e5bf1711e6509e9f47b5bde516452d2157dbd2fab8084b3ce1846f1be3691ee094e91a4947d6035909f5805148ae5409d552b44eed700b75601785156368fab4538fb308b516abd32968e51cd2a98a3bbddf5e15a1132d73fb8c90ba261edee64bbf00885d63269a1e13dafa1c233f64e95f2ac4cc3b0277ccfec358452494ccfee3d34898bd2f02889250'\n",
        "\n",
        "KAGGLE_INPUT_PATH='/kaggle/input'\n",
        "KAGGLE_WORKING_PATH='/kaggle/working'\n",
        "KAGGLE_SYMLINK='kaggle'\n",
        "\n",
        "!umount /kaggle/input/ 2> /dev/null\n",
        "shutil.rmtree('/kaggle/input', ignore_errors=True)\n",
        "os.makedirs(KAGGLE_INPUT_PATH, 0o777, exist_ok=True)\n",
        "os.makedirs(KAGGLE_WORKING_PATH, 0o777, exist_ok=True)\n",
        "\n",
        "try:\n",
        "  os.symlink(KAGGLE_INPUT_PATH, os.path.join(\"..\", 'input'), target_is_directory=True)\n",
        "except FileExistsError:\n",
        "  pass\n",
        "try:\n",
        "  os.symlink(KAGGLE_WORKING_PATH, os.path.join(\"..\", 'working'), target_is_directory=True)\n",
        "except FileExistsError:\n",
        "  pass\n",
        "\n",
        "for data_source_mapping in DATA_SOURCE_MAPPING.split(','):\n",
        "    directory, download_url_encoded = data_source_mapping.split(':')\n",
        "    download_url = unquote(download_url_encoded)\n",
        "    filename = urlparse(download_url).path\n",
        "    destination_path = os.path.join(KAGGLE_INPUT_PATH, directory)\n",
        "    try:\n",
        "        with urlopen(download_url) as fileres, NamedTemporaryFile() as tfile:\n",
        "            total_length = fileres.headers['content-length']\n",
        "            print(f'Downloading {directory}, {total_length} bytes compressed')\n",
        "            dl = 0\n",
        "            data = fileres.read(CHUNK_SIZE)\n",
        "            while len(data) > 0:\n",
        "                dl += len(data)\n",
        "                tfile.write(data)\n",
        "                done = int(50 * dl / int(total_length))\n",
        "                sys.stdout.write(f\"\\r[{'=' * done}{' ' * (50-done)}] {dl} bytes downloaded\")\n",
        "                sys.stdout.flush()\n",
        "                data = fileres.read(CHUNK_SIZE)\n",
        "            if filename.endswith('.zip'):\n",
        "              with ZipFile(tfile) as zfile:\n",
        "                zfile.extractall(destination_path)\n",
        "            else:\n",
        "              with tarfile.open(tfile.name) as tarfile:\n",
        "                tarfile.extractall(destination_path)\n",
        "            print(f'\\nDownloaded and uncompressed: {directory}')\n",
        "    except HTTPError as e:\n",
        "        print(f'Failed to load (likely expired) {download_url} to path {destination_path}')\n",
        "        continue\n",
        "    except OSError as e:\n",
        "        print(f'Failed to load {download_url} to path {destination_path}')\n",
        "        continue\n",
        "\n",
        "print('Data source import complete.')\n"
      ],
      "metadata": {
        "id": "KNUhBj1aUChJ"
      },
      "cell_type": "code",
      "outputs": [],
      "execution_count": null
    },
    {
      "cell_type": "code",
      "source": [
        "# This Python 3 environment comes with many helpful analytics libraries installed\n",
        "# It is defined by the kaggle/python Docker image: https://github.com/kaggle/docker-python\n",
        "# For example, here's several helpful packages to load\n",
        "\n",
        "import numpy as np # linear algebra\n",
        "import pandas as pd # data processing, CSV file I/O (e.g. pd.read_csv)\n",
        "\n",
        "# Input data files are available in the read-only \"../input/\" directory\n",
        "# For example, running this (by clicking run or pressing Shift+Enter) will list all files under the input directory\n",
        "\n",
        "import os\n",
        "for dirname, _, filenames in os.walk('/kaggle/input'):\n",
        "    for filename in filenames:\n",
        "        print(os.path.join(dirname, filename))\n",
        "\n",
        "# You can write up to 20GB to the current directory (/kaggle/working/) that gets preserved as output when you create a version using \"Save & Run All\"\n",
        "# You can also write temporary files to /kaggle/temp/, but they won't be saved outside of the current session"
      ],
      "metadata": {
        "_uuid": "8f2839f25d086af736a60e9eeb907d3b93b6e0e5",
        "_cell_guid": "b1076dfc-b9ad-4769-8c92-a6c4dae69d19",
        "execution": {
          "iopub.status.busy": "2023-11-01T09:59:11.251589Z",
          "iopub.execute_input": "2023-11-01T09:59:11.251969Z",
          "iopub.status.idle": "2023-11-01T09:59:11.626992Z",
          "shell.execute_reply.started": "2023-11-01T09:59:11.251938Z",
          "shell.execute_reply": "2023-11-01T09:59:11.625973Z"
        },
        "trusted": true,
        "id": "NbbgnB57UChS"
      },
      "execution_count": null,
      "outputs": []
    },
    {
      "cell_type": "code",
      "source": [
        "\n",
        "import matplotlib.pyplot as plt\n"
      ],
      "metadata": {
        "execution": {
          "iopub.status.busy": "2023-11-01T09:59:15.654964Z",
          "iopub.execute_input": "2023-11-01T09:59:15.65593Z",
          "iopub.status.idle": "2023-11-01T09:59:15.660378Z",
          "shell.execute_reply.started": "2023-11-01T09:59:15.655895Z",
          "shell.execute_reply": "2023-11-01T09:59:15.659285Z"
        },
        "trusted": true,
        "id": "NwRQh24fUChT"
      },
      "execution_count": null,
      "outputs": []
    },
    {
      "cell_type": "code",
      "source": [
        "train_data_df = pd.read_csv('/kaggle/input/keypoint-identification-cv-contingent-selections/training.csv')\n",
        "test_data_df = pd.read_csv('/kaggle/input/keypoint-identification-cv-contingent-selections/test.csv')"
      ],
      "metadata": {
        "execution": {
          "iopub.status.busy": "2023-11-01T09:59:18.588718Z",
          "iopub.execute_input": "2023-11-01T09:59:18.589422Z",
          "iopub.status.idle": "2023-11-01T09:59:23.467999Z",
          "shell.execute_reply.started": "2023-11-01T09:59:18.589368Z",
          "shell.execute_reply": "2023-11-01T09:59:23.467111Z"
        },
        "trusted": true,
        "id": "q8TwQvhcUChU"
      },
      "execution_count": null,
      "outputs": []
    },
    {
      "cell_type": "code",
      "source": [
        "def process_data(data_df,train):\n",
        "    if train:\n",
        "        y=np.array(data_df.iloc[:,:30])\n",
        "\n",
        "    img_dt = []\n",
        "    for i in range(len(data_df)):\n",
        "        img_dt.append(data_df['Image'][i].split(' '))\n",
        "\n",
        "    X=np.array(img_dt, dtype='float')\n",
        "    return X,y if train else \" \"\n",
        "X_train,y_train=process_data(train_data_df,True)\n",
        "X_test_submit,_=process_data(test_data_df,False)"
      ],
      "metadata": {
        "execution": {
          "iopub.status.busy": "2023-11-01T09:59:27.337905Z",
          "iopub.execute_input": "2023-11-01T09:59:27.338778Z",
          "iopub.status.idle": "2023-11-01T09:59:47.140775Z",
          "shell.execute_reply.started": "2023-11-01T09:59:27.338741Z",
          "shell.execute_reply": "2023-11-01T09:59:47.139631Z"
        },
        "trusted": true,
        "id": "0jDwx2SjUChV"
      },
      "execution_count": null,
      "outputs": []
    },
    {
      "cell_type": "code",
      "source": [
        "class TrainDataset():\n",
        "\n",
        "    def __init__(self, X_train, y_train):\n",
        "        self.X_train = X_train\n",
        "        self.y_train = y_train\n",
        "\n",
        "    def __len__(self):\n",
        "        return len(self.X_train)\n",
        "\n",
        "    def __getitem__(self, idx):\n",
        "        for idx in range(len(self.X_train)):\n",
        "            img = self.X_train[idx]\n",
        "            img = np.stack((img, img, img), axis=-1)\n",
        "            img = img / 255.0\n",
        "            img = np.transpose(img, (2, 0, 1)).copy()\n",
        "            img = torch.from_numpy(img).type(torch.FloatTensor)\n",
        "            keypoints = self.y_train[idx].astype('float32')\n",
        "\n",
        "        return img, keypoints\n",
        "\n",
        "# Create a train dataset\n",
        "\n"
      ],
      "metadata": {
        "execution": {
          "iopub.status.busy": "2023-11-01T09:59:57.708277Z",
          "iopub.execute_input": "2023-11-01T09:59:57.708766Z",
          "iopub.status.idle": "2023-11-01T09:59:57.718616Z",
          "shell.execute_reply.started": "2023-11-01T09:59:57.708721Z",
          "shell.execute_reply": "2023-11-01T09:59:57.717516Z"
        },
        "trusted": true,
        "id": "d5rKrJY6UChW"
      },
      "execution_count": null,
      "outputs": []
    },
    {
      "cell_type": "code",
      "source": [
        "from sklearn.impute import SimpleImputer\n",
        "imputer=SimpleImputer(missing_values=np.nan, strategy='mean')\n",
        "\n",
        "for i in range(30):\n",
        "    imputer.fit(y_train[:,i].reshape(-1,1))\n",
        "    y_train[:,i]=(imputer.transform(y_train[:,i].reshape(-1,1))).reshape(-1,)\n",
        ""
      ],
      "metadata": {
        "execution": {
          "iopub.status.busy": "2023-11-01T10:00:02.345966Z",
          "iopub.execute_input": "2023-11-01T10:00:02.34636Z",
          "iopub.status.idle": "2023-11-01T10:00:03.150222Z",
          "shell.execute_reply.started": "2023-11-01T10:00:02.346326Z",
          "shell.execute_reply": "2023-11-01T10:00:03.149017Z"
        },
        "trusted": true,
        "id": "hwx-btWFUChW"
      },
      "execution_count": null,
      "outputs": []
    },
    {
      "cell_type": "code",
      "source": [
        "X_train=X_train.reshape(X_train.shape[0],96,96)\n",
        "X_test_submit=X_test_submit.reshape(X_test_submit.shape[0],96,96)\n",
        "import matplotlib.pyplot as plt\n",
        "plt.imshow(X_train[0], cmap='gray')\n",
        "plt.title(\"Input Image\")\n",
        "plt.savefig('plot.png', bbox_inches='tight')\n",
        "plt.show()"
      ],
      "metadata": {
        "execution": {
          "iopub.status.busy": "2023-11-01T10:00:07.611205Z",
          "iopub.execute_input": "2023-11-01T10:00:07.611609Z",
          "iopub.status.idle": "2023-11-01T10:00:08.131172Z",
          "shell.execute_reply.started": "2023-11-01T10:00:07.61158Z",
          "shell.execute_reply": "2023-11-01T10:00:08.130141Z"
        },
        "trusted": true,
        "id": "HAhPdnj2UChY"
      },
      "execution_count": null,
      "outputs": []
    },
    {
      "cell_type": "code",
      "source": [
        "train_points = [y_train[k].reshape([15,2]) for k in range(y_train.shape[0]) ]\n",
        "train_images = [X_train[k].reshape([96,96]) for k in range(X_train.shape[0])]"
      ],
      "metadata": {
        "execution": {
          "iopub.status.busy": "2023-11-01T10:01:52.623177Z",
          "iopub.execute_input": "2023-11-01T10:01:52.623907Z",
          "iopub.status.idle": "2023-11-01T10:01:52.640625Z",
          "shell.execute_reply.started": "2023-11-01T10:01:52.623873Z",
          "shell.execute_reply": "2023-11-01T10:01:52.639456Z"
        },
        "trusted": true,
        "id": "4y0Vduk4UChY"
      },
      "execution_count": null,
      "outputs": []
    },
    {
      "cell_type": "code",
      "source": [
        "def augment1(img, pnts, rot_deg, zoom_factor, x_shift_pix, y_shift_pix):\n",
        "    sz = img.shape[-2:]\n",
        "    def get_rotation(x):\n",
        "        mysz = x.new_ones(x.shape[0])\n",
        "        rot_rad = torch.ones_like(mysz)*(rot_deg / 180.0 * np.pi)\n",
        "        m11 = rot_rad.cos() / zoom_factor\n",
        "        m12 = rot_rad.sin() / zoom_factor\n",
        "        t0 = torch.ones_like(mysz)*(x_shift_pix/48.0)\n",
        "        t1 = torch.ones_like(mysz)*(y_shift_pix/48.0)\n",
        "        return affine_mat(m11, m12, t0, -m12, m11, t1)\n",
        "    t1 = AffineCoordTfm(aff_fs=get_rotation, size=sz)\n",
        "    p1 = Pipeline(funcs=t1)\n",
        "    x = TensorImage(img).view([1,1,96,96])\n",
        "    y = TensorPoint(pnts, img_size=[96,96]).view([1,15,2])\n",
        "    x,y = p1((x,y/48.0-1.0))\n",
        "    y = y.view([15,2])\n",
        "    coord_ok = (y[:,0] > -1.0) & (y[:,0] < 1.0) & (y[:,1] > -1.0) & (y[:,1] < 1.0)\n",
        "    coord_ok = torch.stack([coord_ok, coord_ok], dim=1)\n",
        "    y = y.where(coord_ok, tensor(np.nan))\n",
        "    y = y*48.0+48.0\n",
        "    return np.array(x.view([96,96])), np.array(y)"
      ],
      "metadata": {
        "execution": {
          "iopub.status.busy": "2023-11-01T10:01:58.145712Z",
          "iopub.execute_input": "2023-11-01T10:01:58.146094Z",
          "iopub.status.idle": "2023-11-01T10:01:58.157554Z",
          "shell.execute_reply.started": "2023-11-01T10:01:58.146062Z",
          "shell.execute_reply": "2023-11-01T10:01:58.156542Z"
        },
        "trusted": true,
        "id": "d6tlSlf5UChZ"
      },
      "execution_count": null,
      "outputs": []
    },
    {
      "cell_type": "code",
      "source": [
        "import cv2\n",
        "import numpy as np\n",
        "\n",
        "def augment(img, pnts, rot_deg, zoom_factor, x_shift_pix, y_shift_pix):\n",
        "\n",
        "    # Rotate the image\n",
        "    rotation_matrix = cv2.getRotationMatrix2D((48, 48), rot_deg, zoom_factor)\n",
        "    img = cv2.warpAffine(img, rotation_matrix, dsize=(96, 96))\n",
        "\n",
        "    # Shift the image\n",
        "    translation_matrix = np.float32([[1, 0, x_shift_pix], [0, 1, y_shift_pix]])\n",
        "    img = cv2.warpAffine(img, translation_matrix, dsize=(96, 96))\n",
        "\n",
        "    # Augment the point landmarks\n",
        "    pnts = np.dot(pnts, rotation_matrix.T)\n",
        "    pnts[:, 0] += x_shift_pix\n",
        "    pnts[:, 1] += y_shift_pix\n",
        "\n",
        "    return img, pnts\n"
      ],
      "metadata": {
        "execution": {
          "iopub.status.busy": "2023-11-01T10:19:24.983241Z",
          "iopub.execute_input": "2023-11-01T10:19:24.983634Z",
          "iopub.status.idle": "2023-11-01T10:19:24.991379Z",
          "shell.execute_reply.started": "2023-11-01T10:19:24.983602Z",
          "shell.execute_reply": "2023-11-01T10:19:24.990289Z"
        },
        "trusted": true,
        "id": "q6DZopnyUCha"
      },
      "execution_count": null,
      "outputs": []
    },
    {
      "cell_type": "code",
      "source": [
        "augs = []\n",
        "one_pixel = 2.0/96.0\n",
        "for dx in range(21):\n",
        "    for dy in range(21):\n",
        "        if dx==10 and dy==10:\n",
        "            continue\n",
        "        augs.append([0.0, 1.0, dx-10.0, dy-10.0])\n",
        "for rot_deg in range(21):\n",
        "    if rot_deg==10:\n",
        "        continue\n",
        "    augs.append([rot_deg-10, 1.0, 0.0, 0.0])\n",
        "for scale in range(21):\n",
        "    if scale==10:\n",
        "        continue\n",
        "    augs.append([0.0, 0.9 + 0.01*scale, 0.0, 0.0])\n",
        "print(len(augs))"
      ],
      "metadata": {
        "execution": {
          "iopub.status.busy": "2023-11-01T10:19:29.429327Z",
          "iopub.execute_input": "2023-11-01T10:19:29.430133Z",
          "iopub.status.idle": "2023-11-01T10:19:29.438941Z",
          "shell.execute_reply.started": "2023-11-01T10:19:29.430096Z",
          "shell.execute_reply": "2023-11-01T10:19:29.437702Z"
        },
        "trusted": true,
        "id": "fZ06R3ZFUCha"
      },
      "execution_count": null,
      "outputs": []
    },
    {
      "cell_type": "code",
      "source": [
        "aug_images = []\n",
        "aug_points = []\n",
        "aug_ind = 0\n",
        "for k1 in range(len(train_images)):\n",
        "    img,pnt = augment(train_images[k1], train_points[k1], *augs[aug_ind])\n",
        "    aug_images.append(train_images[k1])\n",
        "    aug_points.append(train_points[k1])\n",
        "    aug_images.append(img)\n",
        "    aug_points.append(pnt)\n",
        "    aug_ind = (aug_ind + 1) % len(augs)\n",
        "print(len(aug_images))"
      ],
      "metadata": {
        "execution": {
          "iopub.status.busy": "2023-11-01T10:19:35.958656Z",
          "iopub.execute_input": "2023-11-01T10:19:35.95903Z",
          "iopub.status.idle": "2023-11-01T10:19:36.032888Z",
          "shell.execute_reply.started": "2023-11-01T10:19:35.959Z",
          "shell.execute_reply": "2023-11-01T10:19:36.031499Z"
        },
        "trusted": true,
        "id": "et3otgzaUChb"
      },
      "execution_count": null,
      "outputs": []
    },
    {
      "cell_type": "code",
      "source": [
        "from sklearn.model_selection import train_test_split\n",
        "from fastai.vision.all import ImageDataLoaders,DataLoader\n",
        "import tensorflow as tf\n",
        "from torchvision import transforms\n",
        "from torch.utils.data import Dataset, DataLoader\n",
        "resize_transform = transforms.RandomResizedCrop((96, 96))\n",
        "# Load your training data\n",
        "X_train, X_test, y_train, y_test = train_test_split(X_train, y_train, test_size=0.2, random_state=1)\n",
        "train_dataset=TrainDataset(X_train,y_train)\n",
        "test_dataset=TrainDataset(X_test,y_test)\n",
        "#train_dataset = tf.data.Dataset.from_tensor_slices((X_train, y_train)).batch(64)\n",
        "#test_dataset = tf.data.Dataset.from_tensor_slices((X_test, y_test)).batch(64)\n",
        "# Create an ImageDataBunch object from the training and test data\n",
        "#dataloaders = ImageDataLoaders(X_train, X_test, y_train, y_test,bs=64)\n",
        "train_dls = DataLoader(train_dataset, batch_size=64,shuffle=True)\n",
        "test_dls = DataLoader(test_dataset, batch_size=64,shuffle=True)"
      ],
      "metadata": {
        "execution": {
          "iopub.status.busy": "2023-10-27T18:48:30.551731Z",
          "iopub.execute_input": "2023-10-27T18:48:30.552131Z",
          "iopub.status.idle": "2023-10-27T18:48:30.56121Z",
          "shell.execute_reply.started": "2023-10-27T18:48:30.5521Z",
          "shell.execute_reply": "2023-10-27T18:48:30.56023Z"
        },
        "trusted": true,
        "id": "efOidhsWUChb"
      },
      "execution_count": null,
      "outputs": []
    },
    {
      "cell_type": "code",
      "source": [
        "import torchvision\n",
        "import torch\n",
        "model = torchvision.models.resnet18(pretrained=True)\n",
        "for param in model.parameters():\n",
        "    param.requires_grad = False\n",
        "model.fc = torch.nn.Linear(model.fc.in_features, 30)\n",
        "\n",
        "model = model.type(torch.FloatTensor)\n"
      ],
      "metadata": {
        "execution": {
          "iopub.status.busy": "2023-10-27T16:46:57.557716Z",
          "iopub.execute_input": "2023-10-27T16:46:57.55834Z",
          "iopub.status.idle": "2023-10-27T16:46:57.763303Z",
          "shell.execute_reply.started": "2023-10-27T16:46:57.558309Z",
          "shell.execute_reply": "2023-10-27T16:46:57.762221Z"
        },
        "trusted": true,
        "id": "lcIUsgEbUChc"
      },
      "execution_count": null,
      "outputs": []
    },
    {
      "cell_type": "code",
      "source": [
        "from torch import nn, optim\n",
        "\n",
        "# Define loss function and optimizer\n",
        "criterion = nn.MSELoss()\n",
        "optimizer = optim.Adam(model.parameters(),lr=0.01, weight_decay=0.001)\n",
        "model.train()\n",
        "# Iterate over the training data\n",
        "for epoch in range(25):\n",
        "    for i,(x,y) in enumerate(train_dls):\n",
        "        # Forward pass the data through the model\n",
        "\n",
        "        outputs = model(x)\n",
        "\n",
        "        # Calculate the loss\n",
        "        loss = criterion(outputs,y)\n",
        "\n",
        "        # Backpropagate the loss through the model\n",
        "        optimizer.zero_grad()\n",
        "        loss.backward()\n",
        "        optimizer.step()\n",
        "\n",
        "        # Print the loss\n",
        "        if i % 2== 0:\n",
        "            print('Epoch: {} | Batch: {} | Loss: {}'.format(epoch, i, loss.item()))"
      ],
      "metadata": {
        "execution": {
          "iopub.status.busy": "2023-10-27T18:11:56.159724Z",
          "iopub.execute_input": "2023-10-27T18:11:56.160059Z",
          "iopub.status.idle": "2023-10-27T18:12:04.485636Z",
          "shell.execute_reply.started": "2023-10-27T18:11:56.160033Z",
          "shell.execute_reply": "2023-10-27T18:12:04.484676Z"
        },
        "trusted": true,
        "id": "TXb1Dwm3UChc"
      },
      "execution_count": null,
      "outputs": []
    },
    {
      "cell_type": "code",
      "source": [
        "torch.save(model.state_dict(), 'model.pt')"
      ],
      "metadata": {
        "execution": {
          "iopub.status.busy": "2023-10-27T18:17:30.852748Z",
          "iopub.execute_input": "2023-10-27T18:17:30.853108Z",
          "iopub.status.idle": "2023-10-27T18:17:30.954711Z",
          "shell.execute_reply.started": "2023-10-27T18:17:30.853079Z",
          "shell.execute_reply": "2023-10-27T18:17:30.953695Z"
        },
        "trusted": true,
        "id": "juRDAUunUChc"
      },
      "execution_count": null,
      "outputs": []
    },
    {
      "cell_type": "code",
      "source": [
        "def evaluate_model(model, test_loader):\n",
        "\n",
        "  model.eval()\n",
        "\n",
        "  correct = 0\n",
        "  total = 0\n",
        "  with torch.no_grad():\n",
        "    for batch,(images, labels) in test_dls:\n",
        "      # Forward pass\n",
        "      outputs = model(images)\n",
        "\n",
        "      # Calculate the predicted labels\n",
        "      _, predicted = torch.max(outputs.data, 1)\n",
        "\n",
        "      # Count the number of correct predictions\n",
        "      total += labels.size(0)\n",
        "      correct += (predicted == labels).sum().item()\n",
        "\n",
        "  # Calculate the accuracy\n",
        "  accuracy = 100 * correct / total\n",
        "\n",
        "  return accuracy\n",
        "\n",
        "accuracy = evaluate_model(model, test_loader)\n",
        "\n",
        "# Print the accuracy\n",
        "print('Accuracy on the test data: {:.2f}%'.format(accuracy))"
      ],
      "metadata": {
        "id": "kd-1bti5UChd"
      },
      "execution_count": null,
      "outputs": []
    },
    {
      "cell_type": "code",
      "source": [
        "# Evaluate the model on the test data\n",
        "total_loss = 0\n",
        "accuracy = 0\n",
        "total = 0\n",
        "model.eval()\n",
        "with torch.no_grad():\n",
        "    for batch,(imgs,vals) in enumerate(test_dls):\n",
        "        outputs = model(imgs)\n",
        "        loss = criterion(outputs, vals)\n",
        "\n",
        "        total_loss += loss.item()\n",
        "\n",
        "        # Calculate the accuracy\n",
        "        # by averaging the absolute difference between\n",
        "        # the predicted and actual values\n",
        "\n",
        "        abs_diff = torch.abs(outputs - vals)/vals\n",
        "        mean_abs_diff = torch.mean(1-abs_diff, dim=1)\n",
        "        accuracy +=  mean_abs_diff\n",
        "\n",
        "        total += vals.size(0)\n",
        "\n",
        "# Calculate the average loss and accuracy\n",
        "average_loss = total_loss / len(test_dls)\n",
        "accuracy = 100 * accuracy\n",
        "\n",
        "# Print the results\n",
        "print('Test loss: {}'.format(average_loss))\n",
        "print('Test accuracy: {}%'.format(accuracy))"
      ],
      "metadata": {
        "execution": {
          "iopub.status.busy": "2023-10-27T18:10:58.729378Z",
          "iopub.execute_input": "2023-10-27T18:10:58.73014Z",
          "iopub.status.idle": "2023-10-27T18:10:58.805007Z",
          "shell.execute_reply.started": "2023-10-27T18:10:58.730105Z",
          "shell.execute_reply": "2023-10-27T18:10:58.803979Z"
        },
        "trusted": true,
        "id": "4wK8pwSiUChd"
      },
      "execution_count": null,
      "outputs": []
    },
    {
      "cell_type": "code",
      "source": [
        "\n",
        "cols = pd.read_csv('/kaggle/input/keypoint-identification-cv-contingent-selections/sample_submission.csv').iloc[0,0:30].index\n",
        "preds = pd.DataFrame(columns=cols)\n",
        "# Iterate over the test data and make predictions\n",
        "for i in range(len(X_test_submit)):\n",
        "    image = X_test_submit[i]\n",
        "    image = image.reshape([96, 96])\n",
        "    image = np.stack((image, image, image), axis=-1)\n",
        "    image = image / 255.0\n",
        "    image = np.transpose(image, (2, 0, 1)).copy()\n",
        "\n",
        "    image = torch.from_numpy(image).type(torch.FloatTensor)\n",
        "    image = image.unsqueeze(0)\n",
        "    with torch.no_grad():\n",
        "        out = model(image).cpu().detach().numpy().reshape((30,))\n",
        "\n",
        "    # Add the predictions to the DataFrame\n",
        "    preds.loc[i]=out\n",
        "ID=[]\n",
        "for i in range(1,1501):\n",
        "    ID.append(i)\n",
        "preds['ID']=ID\n",
        "print (preds.shape)\n",
        "preds.to_csv('submission.csv',index = False)"
      ],
      "metadata": {
        "execution": {
          "iopub.status.busy": "2023-10-27T18:44:38.360074Z",
          "iopub.execute_input": "2023-10-27T18:44:38.360508Z",
          "iopub.status.idle": "2023-10-27T18:45:00.162109Z",
          "shell.execute_reply.started": "2023-10-27T18:44:38.360475Z",
          "shell.execute_reply": "2023-10-27T18:45:00.1612Z"
        },
        "trusted": true,
        "id": "5i5Eh9SFUChd"
      },
      "execution_count": null,
      "outputs": []
    },
    {
      "cell_type": "code",
      "source": [],
      "metadata": {
        "id": "krLiU-DPUChe"
      },
      "execution_count": null,
      "outputs": []
    }
  ]
}